{
 "cells": [
  {
   "cell_type": "code",
   "execution_count": 1,
   "metadata": {},
   "outputs": [],
   "source": [
    "import torch"
   ]
  },
  {
   "cell_type": "code",
   "execution_count": 2,
   "metadata": {},
   "outputs": [],
   "source": [
    "x = torch.randn(4,10)"
   ]
  },
  {
   "cell_type": "code",
   "execution_count": 4,
   "metadata": {},
   "outputs": [
    {
     "name": "stdout",
     "output_type": "stream",
     "text": [
      "tensor([[-0.6954, -0.4006,  1.1574, -0.8175, -0.4365,  0.4766, -0.7294, -0.5054,\n",
      "          0.4445,  1.5054],\n",
      "        [ 0.5066,  0.4386,  2.4524, -1.3223,  0.6185,  0.8568,  0.6449, -0.0080,\n",
      "          0.6042,  1.5230],\n",
      "        [-0.6061,  1.7591, -1.1537,  1.9690,  1.1266, -1.9647,  0.3787,  0.0216,\n",
      "         -0.8167,  1.7802],\n",
      "        [ 0.0755,  1.1542,  0.9338, -0.9092, -1.6609,  0.3734,  1.4307, -0.6231,\n",
      "         -0.7432,  0.4613]])\n"
     ]
    }
   ],
   "source": [
    "print(x)"
   ]
  },
  {
   "cell_type": "code",
   "execution_count": 15,
   "metadata": {},
   "outputs": [],
   "source": [
    "mu = x.mean(1)\n",
    "st = x.std(1)"
   ]
  },
  {
   "cell_type": "code",
   "execution_count": null,
   "metadata": {},
   "outputs": [],
   "source": [
    "print(mu, \"\\m\")"
   ]
  }
 ],
 "metadata": {
  "kernelspec": {
   "display_name": "Python 3",
   "language": "python",
   "name": "python3"
  },
  "language_info": {
   "codemirror_mode": {
    "name": "ipython",
    "version": 3
   },
   "file_extension": ".py",
   "mimetype": "text/x-python",
   "name": "python",
   "nbconvert_exporter": "python",
   "pygments_lexer": "ipython3",
   "version": "3.7.5"
  }
 },
 "nbformat": 4,
 "nbformat_minor": 4
}
