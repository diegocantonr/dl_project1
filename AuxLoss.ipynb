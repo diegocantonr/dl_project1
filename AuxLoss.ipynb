{
 "cells": [
  {
   "cell_type": "code",
   "execution_count": 1,
   "metadata": {
    "scrolled": true
   },
   "outputs": [],
   "source": [
    "%matplotlib inline\n",
    "import torch\n",
    "from torch import nn\n",
    "from torch.nn import functional as F\n",
    "import dlc_practical_prologue as prologue\n",
    "import matplotlib.pyplot as plt\n",
    "from torch import optim\n",
    "\n",
    "### Load Data ### \n",
    "N=1000\n",
    "train_input, train_target, train_classes, test_input, test_target, test_classes = prologue.generate_pair_sets(N)"
   ]
  },
  {
   "cell_type": "code",
   "execution_count": 2,
   "metadata": {
    "scrolled": true
   },
   "outputs": [
    {
     "name": "stdout",
     "output_type": "stream",
     "text": [
      "torch.Size([1000, 2, 14, 14]) torch.Size([1000]) torch.Size([1000, 2])\n"
     ]
    }
   ],
   "source": [
    "### Check tensors size\n",
    "print(train_input.size(), train_target.size(), train_classes.size())"
   ]
  },
  {
   "cell_type": "code",
   "execution_count": 4,
   "metadata": {},
   "outputs": [
    {
     "name": "stdout",
     "output_type": "stream",
     "text": [
      "tensor([5, 4]) tensor(0)\n"
     ]
    }
   ],
   "source": [
    "print(train_classes[1], train_target[1])"
   ]
  },
  {
   "cell_type": "code",
   "execution_count": 5,
   "metadata": {
    "scrolled": true
   },
   "outputs": [],
   "source": [
    "def standardize(tensor):\n",
    "    mu, std = tensor.mean(), tensor.std()\n",
    "    return tensor.sub_(mu).div_(std)"
   ]
  },
  {
   "cell_type": "code",
   "execution_count": 6,
   "metadata": {},
   "outputs": [],
   "source": [
    "train_input = standardize(train_input)\n",
    "test_input = standardize(test_input)"
   ]
  },
  {
   "cell_type": "code",
   "execution_count": 7,
   "metadata": {},
   "outputs": [],
   "source": [
    "train_input, train_target, train_classes = train_input.float().requires_grad_(), train_target.float().requires_grad_(), train_classes.float().requires_grad_()\n",
    "test_input, test_target, test_classes = test_input.float().requires_grad_(), test_target.float().requires_grad_(), test_classes.float().requires_grad_()"
   ]
  },
  {
   "cell_type": "code",
   "execution_count": 8,
   "metadata": {},
   "outputs": [],
   "source": [
    "class ConvNet(nn.Module):\n",
    "    def __init__(self):\n",
    "        super(ConvNet, self).__init__()\n",
    "        self.conv1 = nn.Conv2d(1, 32, kernel_size=3) \n",
    "        self.conv2 = nn.Conv2d(32, 64, kernel_size=3)\n",
    "    \n",
    "    def forward(self, x):\n",
    "        x = F.relu(F.max_pool2d(self.conv1(x), kernel_size=2,stride=2))\n",
    "        x = F.relu(F.max_pool2d(self.conv2(x), kernel_size=2,stride=2))\n",
    "        return x\n",
    "\n",
    "class shared_fclayer(nn.Module):\n",
    "    def __init__(self):\n",
    "        super(shared_fclayer,self).__init__()\n",
    "        self.fc1 = nn.Linear(256,200)\n",
    "        self.bn1 = nn.BatchNorm1d(200)\n",
    "        self.fc2 = nn.Linear(200,100)  \n",
    "        self.bn2 = nn.BatchNorm1d(100)\n",
    "        self.fc3 = nn.Linear(100,10)\n",
    "        self.dropout = nn.Dropout(0.25)\n",
    "    \n",
    "    def forward(self,x):\n",
    "        x = self.dropout(self.bn1(F.relu(self.fc1(x.view(-1,256)))))\n",
    "        x = self.dropout(self.bn2(F.relu(self.fc2(x))))\n",
    "        x = F.relu(self.fc3(x))\n",
    "        return x\n",
    "    \n",
    "class final_predictionlayer(nn.Module):\n",
    "    def __init__(self):\n",
    "        super(final_predictionlayer,self).__init__()\n",
    "        self.final = nn.Linear(20,2)\n",
    "    def forward(self,x):\n",
    "        x = self.final(x)\n",
    "        return x\n",
    "    \n",
    "class AuxLossWS_Net(nn.Module):\n",
    "    def __init__(self):\n",
    "        super(AuxLossWS_Net,self).__init__()\n",
    "        self.ConvNet = ConvNet()\n",
    "        self.fclayer = shared_fclayer()\n",
    "        self.final = final_predictionlayer()\n",
    "    def forward(self,x):\n",
    "        tmp1 = x.narrow(1,0,1) #viewing only one image\n",
    "        tmp2 = x.narrow(1,1,1) #viewing only one image\n",
    "        #applying the conv layers\n",
    "        tmp1 = self.ConvNet.forward(tmp1) \n",
    "        tmp2 = self.ConvNet.forward(tmp2)\n",
    "        #applying the fc layers\n",
    "        tmp1 = F.softmax(self.fclayer(tmp1),dim=1)\n",
    "        tmp2 = F.softmax(self.fclayer(tmp2),dim=1)\n",
    "        #viewing and final prediction\n",
    "        output = torch.cat((tmp1,tmp2),1)\n",
    "        output.view(-1,20)\n",
    "        x = self.final(output)\n",
    "        return x, tmp1, tmp2"
   ]
  },
  {
   "cell_type": "code",
   "execution_count": 9,
   "metadata": {},
   "outputs": [],
   "source": [
    "def train_model(model, train_input, train_target, train_classes, mini_batch_size, nb_epochs, eta=9e-2, alpha=.75, gamma=1): \n",
    "    #Squeeze the classes labels (hotlabeling) for the auxLoss\n",
    "    trainlabel_1 = (train_classes.narrow(1,0,1)).squeeze()\n",
    "    trainlabel_2 = (train_classes.narrow(1,1,1)).squeeze()\n",
    "\n",
    "    criterion = nn.CrossEntropyLoss()\n",
    "    optimizer = optim.SGD(model.parameters(),lr=eta)\n",
    "    losses = []\n",
    "    \n",
    "    for e in range(nb_epochs):\n",
    "        sum_loss = 0\n",
    "        for b in range(0, train_input.size(0), mini_batch_size):    \n",
    "            \n",
    "            out_compare, out_1, out_2 = model(train_input.narrow(0, b, mini_batch_size))\n",
    "            #Main Loss\n",
    "            loss_compare = criterion(out_compare, train_target.narrow(0, b, mini_batch_size).long())\n",
    "            #AuxLoss\n",
    "            loss_1 = criterion(out_1, trainlabel_1.narrow(0, b, mini_batch_size).long())\n",
    "            loss_2 = criterion(out_2, trainlabel_2.narrow(0, b, mini_batch_size).long())\n",
    "            #Weighted sum. Used to be Alpha*Loss1 + Beta*Loss2 + Gamma* Loss compare\n",
    "            #Didn't work well, try again with other alpha/betas < 1.\n",
    "            loss = alpha*loss_1 + alpha*loss_2 + gamma*loss_compare\n",
    "            \n",
    "            model.zero_grad()\n",
    "            loss.backward()\n",
    "            optimizer.step() \n",
    "            sum_loss += loss.item()\n",
    "        \n",
    "        losses.append(sum_loss)\n",
    "        \n",
    "    return losses\n",
    "\n",
    "def compute_nb_errors(model, data_input, data_target, mini_batch_size):\n",
    "\n",
    "    nb_errors = 0\n",
    "\n",
    "    for b in range(0, data_input.size(0), mini_batch_size):\n",
    "        output,_,_ = model(data_input.narrow(0, b, mini_batch_size))\n",
    "        _, predicted_classes = torch.max(output, 1)\n",
    "        for k in range(mini_batch_size):\n",
    "            if data_target[b + k] != predicted_classes[k]:\n",
    "                nb_errors += + 1\n",
    "\n",
    "    return nb_errors"
   ]
  },
  {
   "cell_type": "code",
   "execution_count": 10,
   "metadata": {
    "scrolled": true
   },
   "outputs": [
    {
     "data": {
      "image/png": "[encoded data removed]",
      "text/plain": [
       "<Figure size 432x288 with 1 Axes>"
      ]
     },
     "metadata": {
      "needs_background": "light"
     },
     "output_type": "display_data"
    },
    {
     "name": "stdout",
     "output_type": "stream",
     "text": [
      "train error Net 1.50% 15/1000\n",
      "test error Net 3.70% 37/1000\n"
     ]
    }
   ],
   "source": [
    "mini_batch_size = 100\n",
    "model = AuxLossWS_Net()\n",
    "l = train_model(model, train_input, train_target, train_classes, mini_batch_size, nb_epochs=25, eta=2e-1)\n",
    "plt.figure()\n",
    "plt.subplot(111)\n",
    "plt.plot(range(len(l)),l)\n",
    "plt.show()\n",
    "model.train(False)\n",
    "train_error = compute_nb_errors(model, train_input, train_target, mini_batch_size) \n",
    "test_error = compute_nb_errors(model, test_input, test_target, mini_batch_size)\n",
    "print('train error Net {:0.2f}% {:d}/{:d}'.format((100 * train_error) / train_input.size(0), train_error, train_input.size(0)))\n",
    "print('test error Net {:0.2f}% {:d}/{:d}'.format((100 * test_error) / test_input.size(0), test_error, test_input.size(0)))"
   ]
  }
 ],
 "metadata": {
  "kernelspec": {
   "display_name": "Python 3",
   "language": "python",
   "name": "python3"
  },
  "language_info": {
   "codemirror_mode": {
    "name": "ipython",
    "version": 3
   },
   "file_extension": ".py",
   "mimetype": "text/x-python",
   "name": "python",
   "nbconvert_exporter": "python",
   "pygments_lexer": "ipython3",
   "version": "3.8.1"
  }
 },
 "nbformat": 4,
 "nbformat_minor": 4
}
