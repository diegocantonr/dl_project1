{
 "cells": [
  {
   "cell_type": "code",
   "execution_count": null,
   "metadata": {
    "scrolled": true
   },
   "outputs": [
    {
     "name": "stdout",
     "output_type": "stream",
     "text": [
      "Using : cpu\n"
     ]
    }
   ],
   "source": [
    "from CNN import compute_stats\n",
    "\n",
    "a = compute_stats(nb_average=10, nb_epochs=50, lossplot=False)"
   ]
  },
  {
   "cell_type": "code",
   "execution_count": null,
   "metadata": {
    "scrolled": true
   },
   "outputs": [],
   "source": [
    "from WS import compute_stats\n",
    "\n",
    "b = compute_stats(nb_average=10, nb_epochs=50, lossplot=False)"
   ]
  },
  {
   "cell_type": "code",
   "execution_count": null,
   "metadata": {
    "scrolled": false
   },
   "outputs": [],
   "source": [
    "from WS_AuxLoss import compute_stats\n",
    "\n",
    "c = compute_stats(nb_average=10, nb_epochs=50, lossplot=False)"
   ]
  },
  {
   "cell_type": "code",
   "execution_count": null,
   "metadata": {},
   "outputs": [],
   "source": [
    "import matplotlib.pyplot as plt\n",
    "data = [a[0][0], a[0][1], b[0][0], b[0][1], c[0][0], c[0][1]]\n",
    "labels = ['CNN train', 'CNN test', 'WS train', 'WS test', 'AuxLoss train', 'AuxLoss test']\n",
    "green_diamond = dict(markerfacecolor='g', marker='D')\n",
    "fig, ax = plt.subplots(figsize=(15,10))\n",
    "ax.set_title('BoxPlot')\n",
    "ax.boxplot(data, flierprops=green_diamond)\n",
    "xtickNames = plt.setp(ax, xticklabels=labels)\n",
    "plt.setp(xtickNames, rotation=0, fontsize=10)\n",
    "ax.set_ylim(80,100)\n",
    "plt.show()"
   ]
  },
  {
   "cell_type": "code",
   "execution_count": null,
   "metadata": {},
   "outputs": [],
   "source": []
  }
 ],
 "metadata": {
  "kernelspec": {
   "display_name": "Python 3",
   "language": "python",
   "name": "python3"
  },
  "language_info": {
   "codemirror_mode": {
    "name": "ipython",
    "version": 3
   },
   "file_extension": ".py",
   "mimetype": "text/x-python",
   "name": "python",
   "nbconvert_exporter": "python",
   "pygments_lexer": "ipython3",
   "version": "3.8.1"
  }
 },
 "nbformat": 4,
 "nbformat_minor": 4
}
