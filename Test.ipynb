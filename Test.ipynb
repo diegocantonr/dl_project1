{
 "cells": [
  {
   "cell_type": "code",
   "execution_count": 1,
   "metadata": {
    "scrolled": true
   },
   "outputs": [
    {
     "name": "stdout",
     "output_type": "stream",
     "text": [
      "Using : cpu\n",
      "0 ConvNet3: train error = 0.70%,  test error = 16.90%\n",
      "1 ConvNet3: train error = 0.40%,  test error = 16.30%\n",
      "2 ConvNet3: train error = 0.40%,  test error = 17.40%\n",
      "3 ConvNet3: train error = 0.50%,  test error = 15.30%\n",
      "4 ConvNet3: train error = 0.90%,  test error = 14.70%\n",
      "5 ConvNet3: train error = 0.60%,  test error = 17.40%\n",
      "6 ConvNet3: train error = 0.30%,  test error = 15.90%\n",
      "7 ConvNet3: train error = 0.40%,  test error = 16.50%\n",
      "8 ConvNet3: train error = 0.50%,  test error = 17.10%\n",
      "9 ConvNet3: train error = 0.70%,  test error = 17.10%\n",
      "ConvNet3 : train_acc average = 99.46%, test_acc average = 83.54%\n",
      "ConvNet3 : train_acc std = 0.18%, test_acc std = 0.92%\n"
     ]
    }
   ],
   "source": [
    "from CNN import compute_stats\n",
    "\n",
    "a = compute_stats(nb_average=10, nb_epochs=50, lossplot=False)"
   ]
  },
  {
   "cell_type": "code",
   "execution_count": 2,
   "metadata": {
    "scrolled": true
   },
   "outputs": [
    {
     "name": "stdout",
     "output_type": "stream",
     "text": [
      "Using : cpu\n",
      "0 WS_Best_Net: train error = 0.70%,  test error = 13.50%\n",
      "1 WS_Best_Net: train error = 0.70%,  test error = 14.60%\n",
      "2 WS_Best_Net: train error = 0.10%,  test error = 11.40%\n",
      "3 WS_Best_Net: train error = 0.30%,  test error = 14.60%\n",
      "4 WS_Best_Net: train error = 0.30%,  test error = 13.50%\n",
      "5 WS_Best_Net: train error = 0.20%,  test error = 12.60%\n",
      "6 WS_Best_Net: train error = 0.10%,  test error = 11.70%\n",
      "7 WS_Best_Net: train error = 0.70%,  test error = 12.50%\n",
      "8 WS_Best_Net: train error = 0.20%,  test error = 12.20%\n",
      "9 WS_Best_Net: train error = 0.80%,  test error = 14.20%\n",
      "WS_Best_Net : train_acc average = 99.59%, test_acc average = 86.92%\n",
      "WS_Best_Net : train_acc std = 0.28%, test_acc std = 1.17%\n"
     ]
    }
   ],
   "source": [
    "from WS import compute_stats\n",
    "\n",
    "b = compute_stats(nb_average=10, nb_epochs=50, lossplot=False)"
   ]
  },
  {
   "cell_type": "code",
   "execution_count": 3,
   "metadata": {
    "scrolled": false
   },
   "outputs": [
    {
     "name": "stdout",
     "output_type": "stream",
     "text": [
      "Using : cpu\n",
      "0 AuxLossBest_Net: train error = 0.10%,  test error = 2.50%\n",
      "1 AuxLossBest_Net: train error = 0.00%,  test error = 2.00%\n",
      "2 AuxLossBest_Net: train error = 0.00%,  test error = 1.90%\n",
      "3 AuxLossBest_Net: train error = 0.10%,  test error = 3.70%\n",
      "4 AuxLossBest_Net: train error = 0.10%,  test error = 2.50%\n",
      "5 AuxLossBest_Net: train error = 0.10%,  test error = 2.40%\n",
      "6 AuxLossBest_Net: train error = 0.00%,  test error = 2.20%\n",
      "7 AuxLossBest_Net: train error = 0.00%,  test error = 2.40%\n",
      "8 AuxLossBest_Net: train error = 0.10%,  test error = 2.60%\n",
      "9 AuxLossBest_Net: train error = 0.00%,  test error = 2.50%\n",
      "AuxLossBest_Net : train_acc average = 99.95%, test_acc average = 97.53%\n",
      "AuxLossBest_Net : train_acc std = 0.05%, test_acc std = 0.49%\n"
     ]
    }
   ],
   "source": [
    "from WS_AuxLoss import compute_stats\n",
    "\n",
    "c = compute_stats(nb_average=10, nb_epochs=50, lossplot=False)"
   ]
  },
  {
   "cell_type": "code",
   "execution_count": 5,
   "metadata": {},
   "outputs": [
    {
     "data": {
      "image/png": "[encoded data removed]",
      "text/plain": [
       "<Figure size 1080x720 with 1 Axes>"
      ]
     },
     "metadata": {
      "needs_background": "light"
     },
     "output_type": "display_data"
    }
   ],
   "source": [
    "import matplotlib.pyplot as plt\n",
    "data = [a[0][0], a[0][1], b[0][0], b[0][1], c[0][0], c[0][1]]\n",
    "labels = ['CNN train', 'CNN test', 'WS train', 'WS test', 'AuxLoss train', 'AuxLoss test']\n",
    "green_diamond = dict(markerfacecolor='g', marker='D')\n",
    "fig, ax = plt.subplots(figsize=(15,10))\n",
    "ax.set_title('BoxPlot')\n",
    "ax.boxplot(data, flierprops=green_diamond)\n",
    "xtickNames = plt.setp(ax, xticklabels=labels)\n",
    "plt.setp(xtickNames, rotation=0, fontsize=10)\n",
    "ax.set_ylim(80,100)\n",
    "plt.show()"
   ]
  },
  {
   "cell_type": "code",
   "execution_count": null,
   "metadata": {},
   "outputs": [],
   "source": []
  }
 ],
 "metadata": {
  "kernelspec": {
   "display_name": "Python 3",
   "language": "python",
   "name": "python3"
  },
  "language_info": {
   "codemirror_mode": {
    "name": "ipython",
    "version": 3
   },
   "file_extension": ".py",
   "mimetype": "text/x-python",
   "name": "python",
   "nbconvert_exporter": "python",
   "pygments_lexer": "ipython3",
   "version": "3.8.1"
  }
 },
 "nbformat": 4,
 "nbformat_minor": 4
}
