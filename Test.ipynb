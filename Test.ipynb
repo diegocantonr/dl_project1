{
 "cells": [
  {
   "cell_type": "code",
   "execution_count": 1,
   "metadata": {
    "scrolled": true
   },
   "outputs": [
    {
     "name": "stdout",
     "output_type": "stream",
     "text": [
      "Using : cpu\n",
      "0 ConvNet3: train error = 1.60%,  test error = 17.70%\n",
      "1 ConvNet3: train error = 3.50%,  test error = 18.60%\n",
      "2 ConvNet3: train error = 1.00%,  test error = 16.20%\n",
      "3 ConvNet3: train error = 2.50%,  test error = 17.80%\n",
      "4 ConvNet3: train error = 2.60%,  test error = 19.30%\n",
      "5 ConvNet3: train error = 1.50%,  test error = 19.70%\n",
      "6 ConvNet3: train error = 1.20%,  test error = 17.60%\n",
      "7 ConvNet3: train error = 2.40%,  test error = 17.80%\n",
      "8 ConvNet3: train error = 1.80%,  test error = 19.10%\n",
      "9 ConvNet3: train error = 1.80%,  test error = 18.80%\n",
      "ConvNet3 : train_acc average = 98.01%, test_acc average = 81.74%\n",
      "ConvNet3 : train_acc std = 0.76%, test_acc std = 1.04%\n"
     ]
    }
   ],
   "source": [
    "from CNN import compute_stats\n",
    "\n",
    "a = compute_stats(nb_average=10, nb_epochs=50, lossplot=False)"
   ]
  },
  {
   "cell_type": "code",
   "execution_count": 2,
   "metadata": {
    "scrolled": true
   },
   "outputs": [
    {
     "name": "stdout",
     "output_type": "stream",
     "text": [
      "Using : cpu\n",
      "0 WS_net: train error = 0.50%,  test error = 17.20%\n",
      "0 WS_Best_Net: train error = 0.20%,  test error = 16.70%\n",
      "1 WS_net: train error = 0.50%,  test error = 17.80%\n",
      "1 WS_Best_Net: train error = 0.10%,  test error = 15.40%\n",
      "2 WS_net: train error = 0.10%,  test error = 13.40%\n",
      "2 WS_Best_Net: train error = 0.30%,  test error = 14.00%\n",
      "3 WS_net: train error = 0.30%,  test error = 16.60%\n",
      "3 WS_Best_Net: train error = 0.10%,  test error = 16.40%\n",
      "4 WS_net: train error = 0.40%,  test error = 15.70%\n",
      "4 WS_Best_Net: train error = 0.50%,  test error = 14.60%\n",
      "5 WS_net: train error = 0.20%,  test error = 16.40%\n",
      "5 WS_Best_Net: train error = 0.10%,  test error = 17.10%\n",
      "6 WS_net: train error = 0.10%,  test error = 14.80%\n",
      "6 WS_Best_Net: train error = 0.20%,  test error = 14.10%\n",
      "7 WS_net: train error = 0.30%,  test error = 14.20%\n",
      "7 WS_Best_Net: train error = 0.20%,  test error = 14.40%\n",
      "8 WS_net: train error = 0.00%,  test error = 18.20%\n",
      "8 WS_Best_Net: train error = 0.50%,  test error = 16.10%\n",
      "9 WS_net: train error = 0.40%,  test error = 16.80%\n",
      "9 WS_Best_Net: train error = 0.20%,  test error = 14.00%\n",
      "WS_net : train_acc average = 99.72%, test_acc average = 83.89%\n",
      "WS_net : train_acc std = 0.18%, test_acc std = 1.57%\n",
      "WS_Best_Net : train_acc average = 99.76%, test_acc average = 84.72%\n",
      "WS_Best_Net : train_acc std = 0.15%, test_acc std = 1.21%\n"
     ]
    }
   ],
   "source": [
    "from WS import compute_stats\n",
    "\n",
    "b = compute_stats(nb_average=10, nb_epochs=50, lossplot=False)"
   ]
  },
  {
   "cell_type": "code",
   "execution_count": 3,
   "metadata": {
    "scrolled": true
   },
   "outputs": [
    {
     "name": "stdout",
     "output_type": "stream",
     "text": [
      "Using : cpu\n",
      "0 AuxLossBest_Net: train error = 0.30%,  test error = 2.90%\n",
      "1 AuxLossBest_Net: train error = 0.00%,  test error = 2.10%\n",
      "2 AuxLossBest_Net: train error = 0.10%,  test error = 2.70%\n",
      "3 AuxLossBest_Net: train error = 0.10%,  test error = 2.10%\n",
      "4 AuxLossBest_Net: train error = 0.00%,  test error = 3.00%\n",
      "5 AuxLossBest_Net: train error = 0.00%,  test error = 2.20%\n",
      "6 AuxLossBest_Net: train error = 0.00%,  test error = 2.20%\n",
      "7 AuxLossBest_Net: train error = 0.10%,  test error = 2.90%\n",
      "8 AuxLossBest_Net: train error = 0.10%,  test error = 1.50%\n",
      "9 AuxLossBest_Net: train error = 0.00%,  test error = 1.20%\n",
      "AuxLossBest_Net : train_acc average = 99.93%, test_acc average = 97.72%\n",
      "AuxLossBest_Net : train_acc std = 0.09%, test_acc std = 0.61%\n"
     ]
    }
   ],
   "source": [
    "from WS_AuxLoss import compute_stats\n",
    "\n",
    "c = compute_stats(nb_average=10, nb_epochs=50, lossplot=False)"
   ]
  },
  {
   "cell_type": "code",
   "execution_count": 6,
   "metadata": {},
   "outputs": [
    {
     "data": {
      "image/png": "[encoded data removed]",
      "text/plain": [
       "<Figure size 1080x720 with 1 Axes>"
      ]
     },
     "metadata": {
      "needs_background": "light"
     },
     "output_type": "display_data"
    }
   ],
   "source": [
    "import matplotlib.pyplot as plt\n",
    "b1 = b[0]\n",
    "b2 = b[1]\n",
    "data = [a[0][0], a[0][1], b1[0], b1[1], b2[0], b2[1], c[0][0], c[0][1]]\n",
    "labels = ['CNN train', 'CNN test', 'WS1 train', 'WS1 test', 'WS2 train', 'WS2 test', 'AuxLoss train', 'AuxLoss test']\n",
    "green_diamond = dict(markerfacecolor='g', marker='D')\n",
    "fig, ax = plt.subplots(figsize=(15,10))\n",
    "ax.set_title('BoxPlot')\n",
    "ax.boxplot(data, flierprops=green_diamond)\n",
    "xtickNames = plt.setp(ax, xticklabels=labels)\n",
    "plt.setp(xtickNames, rotation=0, fontsize=10)\n",
    "ax.set_ylim(80,100)\n",
    "plt.show()"
   ]
  },
  {
   "cell_type": "code",
   "execution_count": null,
   "metadata": {},
   "outputs": [],
   "source": []
  }
 ],
 "metadata": {
  "kernelspec": {
   "display_name": "Python 3",
   "language": "python",
   "name": "python3"
  },
  "language_info": {
   "codemirror_mode": {
    "name": "ipython",
    "version": 3
   },
   "file_extension": ".py",
   "mimetype": "text/x-python",
   "name": "python",
   "nbconvert_exporter": "python",
   "pygments_lexer": "ipython3",
   "version": "3.8.1"
  }
 },
 "nbformat": 4,
 "nbformat_minor": 4
}
