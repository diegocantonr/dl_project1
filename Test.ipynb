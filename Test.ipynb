{
 "cells": [
  {
   "cell_type": "code",
   "execution_count": 1,
   "metadata": {
    "scrolled": true
   },
   "outputs": [
    {
     "name": "stdout",
     "output_type": "stream",
     "text": [
      "Using : cpu\n",
      "0 ConvNet3: train error Net 1.00%\n",
      "0 ConvNet3: test error Net 17.30%\n",
      "ConvNet3 : train_error average = 1.00%, test_error average = 17.30%\n"
     ]
    },
    {
     "data": {
      "text/plain": [
       "[[[10], [173]]]"
      ]
     },
     "execution_count": 1,
     "metadata": {},
     "output_type": "execute_result"
    }
   ],
   "source": [
    "from CNN import compute_stats\n",
    "\n",
    "compute_stats(nb_average=1, nb_epochs=50)"
   ]
  },
  {
   "cell_type": "code",
   "execution_count": 1,
   "metadata": {
    "scrolled": true
   },
   "outputs": [
    {
     "name": "stdout",
     "output_type": "stream",
     "text": [
      "Using : cpu\n",
      "0 WS_net: train error Net 0.30%\n",
      "0 WS_net: test error Net 16.80%\n",
      "Using : cpu\n",
      "0 WS_Best_Net: train error Net 0.60%\n",
      "0 WS_Best_Net: test error Net 11.70%\n",
      "WS_net : train_error average = 0.30%, test_error average = 16.80%\n",
      "WS_Best_Net : train_error average = 0.60%, test_error average = 11.70%\n"
     ]
    },
    {
     "data": {
      "text/plain": [
       "[[[3], [168]], [[6], [117]]]"
      ]
     },
     "execution_count": 1,
     "metadata": {},
     "output_type": "execute_result"
    }
   ],
   "source": [
    "from WS import compute_stats\n",
    "\n",
    "compute_stats(nb_average=1, nb_epochs=50)"
   ]
  },
  {
   "cell_type": "code",
   "execution_count": 3,
   "metadata": {},
   "outputs": [
    {
     "name": "stdout",
     "output_type": "stream",
     "text": [
      "Using : cpu\n",
      "0 AuxLossBest_Net: train error Net 0.00%\n",
      "0 AuxLossBest_Net: test error Net 2.70%\n",
      "Using : cpu\n",
      "1 AuxLossBest_Net: train error Net 0.00%\n",
      "1 AuxLossBest_Net: test error Net 2.10%\n",
      "Using : cpu\n",
      "2 AuxLossBest_Net: train error Net 0.00%\n",
      "2 AuxLossBest_Net: test error Net 2.80%\n",
      "AuxLossBest_Net : train_error average = 0.00%, test_error average = 2.53%\n"
     ]
    }
   ],
   "source": [
    "from WS_AuxLoss import compute_stats\n",
    "\n",
    "compute_stats(nb_average=3, nb_epochs=50)"
   ]
  },
  {
   "cell_type": "code",
   "execution_count": null,
   "metadata": {},
   "outputs": [],
   "source": []
  }
 ],
 "metadata": {
  "kernelspec": {
   "display_name": "Python 3",
   "language": "python",
   "name": "python3"
  },
  "language_info": {
   "codemirror_mode": {
    "name": "ipython",
    "version": 3
   },
   "file_extension": ".py",
   "mimetype": "text/x-python",
   "name": "python",
   "nbconvert_exporter": "python",
   "pygments_lexer": "ipython3",
   "version": "3.8.1"
  }
 },
 "nbformat": 4,
 "nbformat_minor": 4
}
