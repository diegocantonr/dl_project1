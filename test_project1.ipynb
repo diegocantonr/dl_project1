{
 "cells": [
  {
   "cell_type": "markdown",
   "metadata": {},
   "source": [
    "# Imports"
   ]
  },
  {
   "cell_type": "code",
   "execution_count": 1,
   "metadata": {},
   "outputs": [],
   "source": [
    "import torch\n",
    "import torchvision\n",
    "import torch.nn as nn\n",
    "import matplotlib.pyplot as plt\n",
    "\n",
    "from torch import Tensor\n",
    "from torch import optim\n",
    "from torch.nn import functional as F\n",
    "\n",
    "import dlc_practical_prologue as prologue\n",
    "\n",
    "%matplotlib inline"
   ]
  },
  {
   "cell_type": "markdown",
   "metadata": {},
   "source": [
    "# Load data"
   ]
  },
  {
   "cell_type": "markdown",
   "metadata": {},
   "source": [
    "Data: pairs of 14x14 grayscale images w/ train and test 1000 pairs each (-> N = 1000) <br />\n",
    "-> input N x 2 x 14 x 14 <br />\n",
    "-> target N <br />\n",
    "-> classes N x 2 <br />"
   ]
  },
  {
   "cell_type": "code",
   "execution_count": 2,
   "metadata": {},
   "outputs": [],
   "source": [
    "# generate 2000 pairs of 14x14 grayscale images\n",
    "N = 1000\n",
    "dataset = prologue.generate_pair_sets(2*N)"
   ]
  },
  {
   "cell_type": "code",
   "execution_count": 3,
   "metadata": {},
   "outputs": [
    {
     "name": "stdout",
     "output_type": "stream",
     "text": [
      "torch.Size([1000, 2, 14, 14])\n",
      "torch.Size([1000])\n",
      "torch.Size([1000, 2])\n"
     ]
    }
   ],
   "source": [
    "# create train set from data set + verify size\n",
    "train_input = dataset[0][0:N]\n",
    "print(train_input.size())\n",
    "train_target = dataset[1][0:N]\n",
    "print(train_target.size())\n",
    "train_classes = dataset[2][0:N]\n",
    "print(train_classes.size())"
   ]
  },
  {
   "cell_type": "code",
   "execution_count": 4,
   "metadata": {},
   "outputs": [
    {
     "name": "stdout",
     "output_type": "stream",
     "text": [
      "torch.Size([1000, 2, 14, 14])\n",
      "torch.Size([1000])\n",
      "torch.Size([1000, 2])\n"
     ]
    }
   ],
   "source": [
    "# create test set from data set + check size\n",
    "test_input = dataset[0][N:]\n",
    "print(test_input.size())\n",
    "test_target = dataset[1][N:]\n",
    "print(test_target.size())\n",
    "test_classes = dataset[2][N:]\n",
    "print(test_classes.size())"
   ]
  },
  {
   "cell_type": "markdown",
   "metadata": {},
   "source": [
    "# Normalize data "
   ]
  },
  {
   "cell_type": "markdown",
   "metadata": {},
   "source": [
    "(maybe use transforms.Normalize() instead later)"
   ]
  },
  {
   "cell_type": "code",
   "execution_count": 5,
   "metadata": {},
   "outputs": [],
   "source": [
    "def normalize(train_input):\n",
    "    mu, std = train_input.mean(), train_input.std()\n",
    "    train_input_norm = train_input.sub_(mu).div_(std)\n",
    "    test_input_norm = test_input.sub_(mu).div_(std)\n",
    "    return train_input_norm, test_input_norm"
   ]
  },
  {
   "cell_type": "code",
   "execution_count": 6,
   "metadata": {},
   "outputs": [
    {
     "name": "stdout",
     "output_type": "stream",
     "text": [
      "torch.Size([1000, 2, 14, 14])\n",
      "torch.Size([1000, 2, 14, 14])\n"
     ]
    }
   ],
   "source": [
    "# normalize train_input and test_input + check size\n",
    "train_input_norm, test_input_norm = normalize(train_input)\n",
    "print(train_input_norm.size())\n",
    "print(test_input_norm.size())"
   ]
  },
  {
   "cell_type": "markdown",
   "metadata": {},
   "source": [
    "# Separate pairs into two train sets"
   ]
  },
  {
   "cell_type": "code",
   "execution_count": 7,
   "metadata": {},
   "outputs": [
    {
     "name": "stdout",
     "output_type": "stream",
     "text": [
      "torch.Size([1000, 1, 14, 14])\n",
      "torch.Size([1000, 1, 14, 14])\n"
     ]
    }
   ],
   "source": [
    "# separate the pairs in 2 train_inputs + check size\n",
    "train_input_first = train_input_norm[:,0:1,:,:]\n",
    "train_input_sec = train_input_norm[:,1:,:,:]\n",
    "print(train_input_first.size())\n",
    "print(train_input_sec.size())"
   ]
  },
  {
   "cell_type": "code",
   "execution_count": 8,
   "metadata": {},
   "outputs": [
    {
     "name": "stdout",
     "output_type": "stream",
     "text": [
      "torch.Size([1000, 1])\n",
      "torch.Size([1000, 1])\n"
     ]
    }
   ],
   "source": [
    "# same with their class (digits classes)\n",
    "train_classes_first = train_classes[:,0:1]\n",
    "train_classes_sec = train_classes[:,1:]\n",
    "print(train_classes_first.size())\n",
    "print(train_classes_sec.size())"
   ]
  },
  {
   "cell_type": "markdown",
   "metadata": {},
   "source": [
    "# Try models"
   ]
  },
  {
   "cell_type": "markdown",
   "metadata": {},
   "source": [
    "2 parts: <br />\n",
    "1) classify the digits of the pair -> classes 0 to 9 -> try a LeNet <br /> \n",
    "2) compare the 2 digits: if 1st <= 2nd -> class 1, else class 0"
   ]
  },
  {
   "cell_type": "markdown",
   "metadata": {},
   "source": [
    "### LeNet"
   ]
  },
  {
   "cell_type": "code",
   "execution_count": 9,
   "metadata": {},
   "outputs": [
    {
     "name": "stdout",
     "output_type": "stream",
     "text": [
      "torch.Size([1000, 1, 14, 14])\n",
      "torch.Size([1000])\n"
     ]
    }
   ],
   "source": [
    "# just to test dimensions in the Net\n",
    "train_input = train_input_first\n",
    "train_target = train_classes_first.squeeze()\n",
    "print(train_input.size())\n",
    "print(train_target.size())"
   ]
  },
  {
   "cell_type": "code",
   "execution_count": 10,
   "metadata": {},
   "outputs": [],
   "source": [
    "# define the network\n",
    "class Net(nn.Module):\n",
    "    def __init__(self, nb_hidden):\n",
    "        super(Net, self).__init__()\n",
    "        # start with 1x14x14\n",
    "        self.conv1 = nn.Conv2d(1, 32, kernel_size=3) # after that 32x12x12\n",
    "        self.conv2 = nn.Conv2d(32, 64, kernel_size=1) # after that 64x4x4\n",
    "        self.fc1 = nn.Linear(256, nb_hidden)\n",
    "        self.fc2 = nn.Linear(nb_hidden, 10)\n",
    "    def forward(self, x):\n",
    "        #print(x.size())\n",
    "        #print(self.conv1(x).size())\n",
    "        x = F.relu(F.max_pool2d(self.conv1(x), kernel_size = 3)) # after that 32x4x4\n",
    "        #print(x.size())\n",
    "        #print(self.conv2(x).size())\n",
    "        x = F.relu(F.max_pool2d(self.conv2(x), kernel_size = 2)) # after that 64x2x2\n",
    "        #print(x.size())\n",
    "        #x = x.view(x.size(0), -1)\n",
    "        x = x.view(-1, 256)\n",
    "        #print(x.size())\n",
    "        x = F.relu(self.fc1(x))\n",
    "        #print(x.size())\n",
    "        x = self.fc2(x)\n",
    "        #print(x.size())\n",
    "        return x"
   ]
  },
  {
   "cell_type": "code",
   "execution_count": 11,
   "metadata": {},
   "outputs": [],
   "source": [
    "def train_model(model, train_input, train_target, nb_epochs, lr, mini_batch_size):\n",
    "    criterion = nn.CrossEntropyLoss()\n",
    "    optimizer = optim.SGD(model.parameters(), lr = lr)\n",
    "    \n",
    "    losses = []\n",
    "\n",
    "    for e in range(nb_epochs):\n",
    "        for b in range(0, train_input.size(0), mini_batch_size):\n",
    "            output = model(train_input.narrow(0, b, mini_batch_size))\n",
    "            loss = criterion(output, train_target.narrow(0, b, mini_batch_size))\n",
    "            losses.append(loss)\n",
    "            model.zero_grad()\n",
    "            loss.backward()\n",
    "            optimizer.step()\n",
    "            \n",
    "    plt.plot(losses)\n",
    "    plt.ylabel('loss')"
   ]
  },
  {
   "cell_type": "markdown",
   "metadata": {},
   "source": [
    "batch size = number of samples processed before the model is updated <br /> \n",
    "number of epochs = number of complete passes through the training dataset"
   ]
  },
  {
   "cell_type": "code",
   "execution_count": 12,
   "metadata": {
    "scrolled": false
   },
   "outputs": [
    {
     "data": {
      "image/png": "[encoded data removed]",
      "text/plain": [
       "<Figure size 432x288 with 1 Axes>"
      ]
     },
     "metadata": {
      "needs_background": "light"
     },
     "output_type": "display_data"
    }
   ],
   "source": [
    "lr, nb_epochs, mini_batch_size = 1e-1, 100, 50\n",
    "\n",
    "model = Net(200)\n",
    "\n",
    "train_model(model, train_input, train_target, nb_epochs, lr, mini_batch_size)"
   ]
  },
  {
   "cell_type": "code",
   "execution_count": null,
   "metadata": {},
   "outputs": [],
   "source": []
  },
  {
   "cell_type": "code",
   "execution_count": null,
   "metadata": {},
   "outputs": [],
   "source": []
  },
  {
   "cell_type": "code",
   "execution_count": null,
   "metadata": {},
   "outputs": [],
   "source": []
  },
  {
   "cell_type": "code",
   "execution_count": null,
   "metadata": {},
   "outputs": [],
   "source": []
  },
  {
   "cell_type": "code",
   "execution_count": null,
   "metadata": {},
   "outputs": [],
   "source": []
  },
  {
   "cell_type": "code",
   "execution_count": null,
   "metadata": {},
   "outputs": [],
   "source": []
  },
  {
   "cell_type": "code",
   "execution_count": null,
   "metadata": {},
   "outputs": [],
   "source": []
  },
  {
   "cell_type": "code",
   "execution_count": null,
   "metadata": {},
   "outputs": [],
   "source": []
  },
  {
   "cell_type": "code",
   "execution_count": null,
   "metadata": {},
   "outputs": [],
   "source": []
  },
  {
   "cell_type": "code",
   "execution_count": null,
   "metadata": {},
   "outputs": [],
   "source": []
  },
  {
   "cell_type": "code",
   "execution_count": null,
   "metadata": {},
   "outputs": [],
   "source": []
  },
  {
   "cell_type": "code",
   "execution_count": null,
   "metadata": {},
   "outputs": [],
   "source": []
  },
  {
   "cell_type": "code",
   "execution_count": null,
   "metadata": {},
   "outputs": [],
   "source": []
  },
  {
   "cell_type": "code",
   "execution_count": null,
   "metadata": {},
   "outputs": [],
   "source": []
  },
  {
   "cell_type": "code",
   "execution_count": null,
   "metadata": {},
   "outputs": [],
   "source": []
  },
  {
   "cell_type": "code",
   "execution_count": null,
   "metadata": {},
   "outputs": [],
   "source": []
  }
 ],
 "metadata": {
  "kernelspec": {
   "display_name": "Python 3",
   "language": "python",
   "name": "python3"
  },
  "language_info": {
   "codemirror_mode": {
    "name": "ipython",
    "version": 3
   },
   "file_extension": ".py",
   "mimetype": "text/x-python",
   "name": "python",
   "nbconvert_exporter": "python",
   "pygments_lexer": "ipython3",
   "version": "3.7.6"
  }
 },
 "nbformat": 4,
 "nbformat_minor": 2
}